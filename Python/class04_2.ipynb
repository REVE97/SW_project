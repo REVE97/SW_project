{
 "cells": [
  {
   "cell_type": "code",
   "execution_count": 1,
   "id": "429894c2-df85-4a0f-837e-dc70559b8153",
   "metadata": {},
   "outputs": [],
   "source": [
    "import numpy as np"
   ]
  },
  {
   "cell_type": "code",
   "execution_count": 3,
   "id": "7008014d-0961-4d7b-927e-e7c4e70be62c",
   "metadata": {},
   "outputs": [],
   "source": [
    "# 가상의 기울기 a와 y 절편 b를 정함\n",
    "fake_a = 3\n",
    "fake_b = 76"
   ]
  },
  {
   "cell_type": "code",
   "execution_count": 4,
   "id": "c0418c42-4585-420c-8fbf-191d4be47ea8",
   "metadata": {},
   "outputs": [],
   "source": [
    "# 공부 시간 x와 성적 y의 넘파이 배열을 만듬\n",
    "x = np.array([2,4,6,8])\n",
    "y = np.array([81,93,91,97])"
   ]
  },
  {
   "cell_type": "code",
   "execution_count": 13,
   "id": "d1f979ba-2f63-48ab-b9fd-8434961a77b7",
   "metadata": {},
   "outputs": [],
   "source": [
    "# y= ax + b 에 가상의 a값과 b 값을 대입한 결과를 출력\n",
    "def predict(x):\n",
    "    return fake_a * x + fake_b\n",
    " # 예측 값이 들어갈 빈 리스트 생성\n",
    "predict_result=[]"
   ]
  },
  {
   "cell_type": "code",
   "execution_count": 14,
   "id": "d47a3cd1-ffb6-45a7-993a-65f94c43d0d6",
   "metadata": {},
   "outputs": [
    {
     "name": "stdout",
     "output_type": "stream",
     "text": [
      "공부시간 = 2, 실제점수 = 81, 예측점수 = 82\n",
      "공부시간 = 4, 실제점수 = 93, 예측점수 = 88\n",
      "공부시간 = 6, 실제점수 = 91, 예측점수 = 94\n",
      "공부시간 = 8, 실제점수 = 97, 예측점수 = 100\n"
     ]
    }
   ],
   "source": [
    "# 모든 x 값을 한 번씩 대입해 predict_result 리스트를 완성\n",
    "for i in range(len(x)):\n",
    "    predict_result.append(predict(x[i]))\n",
    "    print(\"공부시간 = %.f, 실제점수 = %.f, 예측점수 = %.f\"  %(x[i],y[i],predict(x[i])))"
   ]
  },
  {
   "cell_type": "code",
   "execution_count": 15,
   "id": "4a21d25b-f5e4-4ee3-8067-6f068e94256b",
   "metadata": {},
   "outputs": [],
   "source": [
    "#평균 제곱 오차 함수를 각 y값에 대입해 최종 값을 구하는 함수\n",
    "\n",
    "n= len(x)\n",
    "def mse(y, y_pred):\n",
    "    return (1/n) * sum((y- y_pred)**2)"
   ]
  },
  {
   "cell_type": "code",
   "execution_count": 17,
   "id": "82e3ad53-a25a-49f3-9e64-36ad9470e6c6",
   "metadata": {},
   "outputs": [
    {
     "name": "stdout",
     "output_type": "stream",
     "text": [
      "평균 제곱 오치: 11.0\n"
     ]
    }
   ],
   "source": [
    "# 평균 제곱 오차 값을 출력\n",
    "print(\"평균 제곱 오치: \" + str(mse(y, predict_result)))"
   ]
  },
  {
   "cell_type": "code",
   "execution_count": null,
   "id": "6a7d854e-1cad-46b4-bf7a-383588b44d98",
   "metadata": {},
   "outputs": [],
   "source": []
  }
 ],
 "metadata": {
  "kernelspec": {
   "display_name": "Python 3 (ipykernel)",
   "language": "python",
   "name": "python3"
  },
  "language_info": {
   "codemirror_mode": {
    "name": "ipython",
    "version": 3
   },
   "file_extension": ".py",
   "mimetype": "text/x-python",
   "name": "python",
   "nbconvert_exporter": "python",
   "pygments_lexer": "ipython3",
   "version": "3.11.7"
  }
 },
 "nbformat": 4,
 "nbformat_minor": 5
}
