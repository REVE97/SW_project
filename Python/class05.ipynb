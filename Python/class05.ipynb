{
 "cells": [
  {
   "cell_type": "code",
   "execution_count": 1,
   "id": "c6a8e474-01dd-44ed-88c0-9d2d9c5e8d4b",
   "metadata": {},
   "outputs": [],
   "source": [
    "import numpy as np"
   ]
  },
  {
   "cell_type": "code",
   "execution_count": 3,
   "id": "4f3600f3-9c0f-425f-90b5-0ff5d3ad6712",
   "metadata": {},
   "outputs": [],
   "source": [
    "# 가중치와 바이어스\n",
    "\n",
    "w11 = np.array([-2, -2])\n",
    "w12 = np.array([2,2])\n",
    "w2 = np.array([1,1])\n",
    "b1 = 3\n",
    "b2 = -1\n",
    "b3 = -1"
   ]
  },
  {
   "cell_type": "code",
   "execution_count": 4,
   "id": "c42ac857-1fbe-4738-be32-9f0184cdea97",
   "metadata": {},
   "outputs": [],
   "source": [
    "#퍼셉트론\n",
    "\n",
    "def MLP(x,w,b):\n",
    "    y = np.sum(w * x) + b\n",
    "    if y<=0:\n",
    "        return 0\n",
    "    else:\n",
    "        return 1\n",
    "\n",
    "\n"
   ]
  },
  {
   "cell_type": "code",
   "execution_count": 5,
   "id": "292cfa11-9f39-4e4d-a9f5-350540c1b991",
   "metadata": {},
   "outputs": [],
   "source": [
    "# NAND 게이트\n",
    "\n",
    "def NAND(x1,x2):\n",
    "    return MLP(np.array([x1,x2]),w11, b1)"
   ]
  },
  {
   "cell_type": "code",
   "execution_count": 6,
   "id": "eb036d86-c27b-4c46-9252-51a9a0dbb609",
   "metadata": {},
   "outputs": [],
   "source": [
    "# OR 게이트\n",
    "def OR(x1,x2):\n",
    "    return MLP(np.array([x1,x2]),w12, b2)"
   ]
  },
  {
   "cell_type": "code",
   "execution_count": 7,
   "id": "b251ca40-9ba8-4774-a7e8-2f899fe34820",
   "metadata": {},
   "outputs": [],
   "source": [
    "# AND 게이트\n",
    "def AND(x1,x2):\n",
    "    return MLP(np.array([x1,x2]),w2, b3)"
   ]
  },
  {
   "cell_type": "code",
   "execution_count": 8,
   "id": "002086a1-9d98-49c7-b0c7-070b8849a306",
   "metadata": {},
   "outputs": [],
   "source": [
    "# XOR 게이트\n",
    "def XOR(x1,x2):\n",
    "    return AND(NAND(x1,x2), OR(x1,x2))"
   ]
  },
  {
   "cell_type": "code",
   "execution_count": 9,
   "id": "c934d27d-7065-4614-8516-636673c424d1",
   "metadata": {},
   "outputs": [
    {
     "name": "stdout",
     "output_type": "stream",
     "text": [
      "입력 값 : (0, 0) 출력 값 : 0\n",
      "입력 값 : (1, 0) 출력 값 : 1\n",
      "입력 값 : (0, 1) 출력 값 : 1\n",
      "입력 값 : (1, 1) 출력 값 : 0\n"
     ]
    }
   ],
   "source": [
    "# x1 값, x2 값을 번갈아 대입하여 최종 값을 출력\n",
    "for x in [ (0,0), (1,0) , (0,1), (1,1) ]:\n",
    "    y = XOR(x[0],x[1])\n",
    "    print(\"입력 값 : \" + str(x) + \" 출력 값 : \" + str(y) )"
   ]
  },
  {
   "cell_type": "code",
   "execution_count": null,
   "id": "9e4e7ab9-14f9-466c-9cc7-96082e001aff",
   "metadata": {},
   "outputs": [],
   "source": []
  }
 ],
 "metadata": {
  "kernelspec": {
   "display_name": "Python 3 (ipykernel)",
   "language": "python",
   "name": "python3"
  },
  "language_info": {
   "codemirror_mode": {
    "name": "ipython",
    "version": 3
   },
   "file_extension": ".py",
   "mimetype": "text/x-python",
   "name": "python",
   "nbconvert_exporter": "python",
   "pygments_lexer": "ipython3",
   "version": "3.11.7"
  }
 },
 "nbformat": 4,
 "nbformat_minor": 5
}
