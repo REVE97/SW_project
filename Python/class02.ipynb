{
 "cells": [
  {
   "cell_type": "code",
   "execution_count": 8,
   "id": "6c8db223-29c9-49f0-bd93-a2c400840631",
   "metadata": {},
   "outputs": [],
   "source": [
    "# numpy 사용\n",
    "import numpy as np"
   ]
  },
  {
   "cell_type": "code",
   "execution_count": 7,
   "id": "a2e25dc8-b3dc-4dcb-896a-ad2da72f7f29",
   "metadata": {},
   "outputs": [],
   "source": [
    "# random 사용\n",
    "import random"
   ]
  },
  {
   "cell_type": "code",
   "execution_count": 4,
   "id": "768301c7-8540-4b5d-8177-94c9c5bb2e57",
   "metadata": {},
   "outputs": [
    {
     "data": {
      "text/plain": [
       "2"
      ]
     },
     "execution_count": 4,
     "metadata": {},
     "output_type": "execute_result"
    }
   ],
   "source": [
    "random.randint(1,3)"
   ]
  },
  {
   "cell_type": "code",
   "execution_count": 9,
   "id": "589a1c9a-1fcb-4041-a33b-03b21fe456e2",
   "metadata": {},
   "outputs": [],
   "source": [
    "# datetime 사용\n",
    "from datetime import datetime"
   ]
  },
  {
   "cell_type": "code",
   "execution_count": 6,
   "id": "bb41ab50-d66e-4e05-90cb-002766af7351",
   "metadata": {},
   "outputs": [
    {
     "name": "stdout",
     "output_type": "stream",
     "text": [
      "2024-03-05 09:23:13.005184\n"
     ]
    }
   ],
   "source": [
    "today = datetime.now()\n",
    "print(today)"
   ]
  },
  {
   "cell_type": "code",
   "execution_count": 10,
   "id": "69df9a05-c830-4b4a-9c18-9323c320a8a8",
   "metadata": {},
   "outputs": [
    {
     "data": {
      "text/plain": [
       "'2024/03/05 09:23:13'"
      ]
     },
     "execution_count": 10,
     "metadata": {},
     "output_type": "execute_result"
    }
   ],
   "source": [
    "datetime.strftime(today,'%Y/%m/%d %H:%M:%S')"
   ]
  },
  {
   "cell_type": "code",
   "execution_count": 11,
   "id": "ca3c26f3-e8b0-4417-ae98-cbbd43da22a8",
   "metadata": {},
   "outputs": [],
   "source": [
    "dt = datetime(2024,2,1)"
   ]
  },
  {
   "cell_type": "code",
   "execution_count": 12,
   "id": "045438b9-d810-426e-a611-d7d45eb8d7ec",
   "metadata": {},
   "outputs": [
    {
     "name": "stdout",
     "output_type": "stream",
     "text": [
      "2024\n",
      "2\n",
      "1\n"
     ]
    }
   ],
   "source": [
    "print(dt.year)\n",
    "print(dt.month)\n",
    "print(dt.day)"
   ]
  },
  {
   "cell_type": "code",
   "execution_count": 13,
   "id": "e1fb29cc-f9f8-426e-8700-9a3e98f09a48",
   "metadata": {},
   "outputs": [
    {
     "name": "stdout",
     "output_type": "stream",
     "text": [
      "2024-02-01\n"
     ]
    }
   ],
   "source": [
    "print(dt.date())"
   ]
  },
  {
   "cell_type": "code",
   "execution_count": 14,
   "id": "2634eb24-6056-4e57-9360-45f47a2d5fdc",
   "metadata": {},
   "outputs": [
    {
     "data": {
      "text/plain": [
       "3"
      ]
     },
     "execution_count": 14,
     "metadata": {},
     "output_type": "execute_result"
    }
   ],
   "source": [
    "dt.weekday()"
   ]
  },
  {
   "cell_type": "code",
   "execution_count": 16,
   "id": "d12ed186-a9ad-4bc5-9f88-29280a3b8b22",
   "metadata": {},
   "outputs": [],
   "source": [
    "# calendar 모듈 사용\n",
    "import calendar"
   ]
  },
  {
   "cell_type": "code",
   "execution_count": 17,
   "id": "9ad2e887-a4d3-413a-8264-5516cdbb3ff7",
   "metadata": {},
   "outputs": [
    {
     "data": {
      "text/plain": [
       "'Monday'"
      ]
     },
     "execution_count": 17,
     "metadata": {},
     "output_type": "execute_result"
    }
   ],
   "source": [
    "calendar.day_name[0]"
   ]
  },
  {
   "cell_type": "code",
   "execution_count": 18,
   "id": "d181fa90-f13b-4f47-9261-9e7fe59ee7ec",
   "metadata": {},
   "outputs": [
    {
     "name": "stdout",
     "output_type": "stream",
     "text": [
      "(3, 29)\n"
     ]
    }
   ],
   "source": [
    "monthInfo = calendar.monthrange(2024,2)\n",
    "print(monthInfo)"
   ]
  },
  {
   "cell_type": "code",
   "execution_count": 20,
   "id": "2c30a20f-422f-4a99-8003-866625e45080",
   "metadata": {},
   "outputs": [],
   "source": [
    "# pandas 사용\n",
    "import pandas as pd"
   ]
  },
  {
   "cell_type": "code",
   "execution_count": 21,
   "id": "6f6f97ce-ae28-4d3e-ba42-f2f869aec7ba",
   "metadata": {},
   "outputs": [],
   "source": [
    "a = np.array([1,2,3])"
   ]
  },
  {
   "cell_type": "code",
   "execution_count": 22,
   "id": "97adedba-6f37-4669-917e-75c7221ec997",
   "metadata": {},
   "outputs": [],
   "source": [
    "b = np.array([[1,2,3],[4,5,6]])"
   ]
  },
  {
   "cell_type": "code",
   "execution_count": 23,
   "id": "4f47c898-c98e-44b0-9eed-fb55a54796c8",
   "metadata": {},
   "outputs": [
    {
     "name": "stdout",
     "output_type": "stream",
     "text": [
      "(3,)\n",
      "(2, 3)\n",
      "[1 2 3]\n"
     ]
    }
   ],
   "source": [
    "print(a.shape)\n",
    "print(b.shape)\n",
    "print(b[0])"
   ]
  },
  {
   "cell_type": "code",
   "execution_count": 31,
   "id": "12f1d5e2-46ac-4ba4-a4ed-45a1a78ee793",
   "metadata": {},
   "outputs": [],
   "source": [
    "gisa = pd.read_csv('Abc1115.csv')"
   ]
  },
  {
   "cell_type": "code",
   "execution_count": 26,
   "id": "bf1e8363-f9d0-4549-a37b-76eb0dc8c0bc",
   "metadata": {},
   "outputs": [
    {
     "data": {
      "text/plain": [
       "Index(['990001', 'addx', ' 17', ' 29', ' 16', ' 49', ' 43', '154', 'C', 'A',\n",
       "       'C.1'],\n",
       "      dtype='object')"
      ]
     },
     "execution_count": 26,
     "metadata": {},
     "output_type": "execute_result"
    }
   ],
   "source": [
    "gisa.columns"
   ]
  },
  {
   "cell_type": "code",
   "execution_count": 28,
   "id": "50ba46f7-e140-47dd-a2fa-9dd6bc868867",
   "metadata": {},
   "outputs": [
    {
     "data": {
      "text/html": [
       "<div>\n",
       "<style scoped>\n",
       "    .dataframe tbody tr th:only-of-type {\n",
       "        vertical-align: middle;\n",
       "    }\n",
       "\n",
       "    .dataframe tbody tr th {\n",
       "        vertical-align: top;\n",
       "    }\n",
       "\n",
       "    .dataframe thead th {\n",
       "        text-align: right;\n",
       "    }\n",
       "</style>\n",
       "<table border=\"1\" class=\"dataframe\">\n",
       "  <thead>\n",
       "    <tr style=\"text-align: right;\">\n",
       "      <th></th>\n",
       "      <th>990001</th>\n",
       "      <th>17</th>\n",
       "      <th>29</th>\n",
       "      <th>16</th>\n",
       "      <th>49</th>\n",
       "      <th>43</th>\n",
       "      <th>154</th>\n",
       "    </tr>\n",
       "  </thead>\n",
       "  <tbody>\n",
       "    <tr>\n",
       "      <th>count</th>\n",
       "      <td>999.000000</td>\n",
       "      <td>999.000000</td>\n",
       "      <td>999.000000</td>\n",
       "      <td>999.000000</td>\n",
       "      <td>999.000000</td>\n",
       "      <td>999.000000</td>\n",
       "      <td>999.000000</td>\n",
       "    </tr>\n",
       "    <tr>\n",
       "      <th>mean</th>\n",
       "      <td>990501.000000</td>\n",
       "      <td>50.059059</td>\n",
       "      <td>49.563564</td>\n",
       "      <td>50.954955</td>\n",
       "      <td>51.277277</td>\n",
       "      <td>50.922923</td>\n",
       "      <td>252.777778</td>\n",
       "    </tr>\n",
       "    <tr>\n",
       "      <th>std</th>\n",
       "      <td>288.530761</td>\n",
       "      <td>28.493988</td>\n",
       "      <td>29.053949</td>\n",
       "      <td>29.281971</td>\n",
       "      <td>28.784985</td>\n",
       "      <td>28.447594</td>\n",
       "      <td>65.156930</td>\n",
       "    </tr>\n",
       "    <tr>\n",
       "      <th>min</th>\n",
       "      <td>990002.000000</td>\n",
       "      <td>1.000000</td>\n",
       "      <td>1.000000</td>\n",
       "      <td>1.000000</td>\n",
       "      <td>1.000000</td>\n",
       "      <td>1.000000</td>\n",
       "      <td>67.000000</td>\n",
       "    </tr>\n",
       "    <tr>\n",
       "      <th>25%</th>\n",
       "      <td>990251.500000</td>\n",
       "      <td>26.000000</td>\n",
       "      <td>25.000000</td>\n",
       "      <td>25.000000</td>\n",
       "      <td>26.000000</td>\n",
       "      <td>25.000000</td>\n",
       "      <td>207.000000</td>\n",
       "    </tr>\n",
       "    <tr>\n",
       "      <th>50%</th>\n",
       "      <td>990501.000000</td>\n",
       "      <td>48.000000</td>\n",
       "      <td>49.000000</td>\n",
       "      <td>50.000000</td>\n",
       "      <td>52.000000</td>\n",
       "      <td>52.000000</td>\n",
       "      <td>251.000000</td>\n",
       "    </tr>\n",
       "    <tr>\n",
       "      <th>75%</th>\n",
       "      <td>990750.500000</td>\n",
       "      <td>75.000000</td>\n",
       "      <td>74.000000</td>\n",
       "      <td>76.000000</td>\n",
       "      <td>76.000000</td>\n",
       "      <td>75.000000</td>\n",
       "      <td>298.000000</td>\n",
       "    </tr>\n",
       "    <tr>\n",
       "      <th>max</th>\n",
       "      <td>991000.000000</td>\n",
       "      <td>100.000000</td>\n",
       "      <td>100.000000</td>\n",
       "      <td>100.000000</td>\n",
       "      <td>100.000000</td>\n",
       "      <td>100.000000</td>\n",
       "      <td>434.000000</td>\n",
       "    </tr>\n",
       "  </tbody>\n",
       "</table>\n",
       "</div>"
      ],
      "text/plain": [
       "              990001          17          29          16          49  \\\n",
       "count     999.000000  999.000000  999.000000  999.000000  999.000000   \n",
       "mean   990501.000000   50.059059   49.563564   50.954955   51.277277   \n",
       "std       288.530761   28.493988   29.053949   29.281971   28.784985   \n",
       "min    990002.000000    1.000000    1.000000    1.000000    1.000000   \n",
       "25%    990251.500000   26.000000   25.000000   25.000000   26.000000   \n",
       "50%    990501.000000   48.000000   49.000000   50.000000   52.000000   \n",
       "75%    990750.500000   75.000000   74.000000   76.000000   76.000000   \n",
       "max    991000.000000  100.000000  100.000000  100.000000  100.000000   \n",
       "\n",
       "               43         154  \n",
       "count  999.000000  999.000000  \n",
       "mean    50.922923  252.777778  \n",
       "std     28.447594   65.156930  \n",
       "min      1.000000   67.000000  \n",
       "25%     25.000000  207.000000  \n",
       "50%     52.000000  251.000000  \n",
       "75%     75.000000  298.000000  \n",
       "max    100.000000  434.000000  "
      ]
     },
     "execution_count": 28,
     "metadata": {},
     "output_type": "execute_result"
    }
   ],
   "source": [
    "gisa.describe()"
   ]
  },
  {
   "cell_type": "code",
   "execution_count": 32,
   "id": "f24423c7-8447-475c-979b-9010ad4acaf4",
   "metadata": {},
   "outputs": [
    {
     "data": {
      "text/html": [
       "<div>\n",
       "<style scoped>\n",
       "    .dataframe tbody tr th:only-of-type {\n",
       "        vertical-align: middle;\n",
       "    }\n",
       "\n",
       "    .dataframe tbody tr th {\n",
       "        vertical-align: top;\n",
       "    }\n",
       "\n",
       "    .dataframe thead th {\n",
       "        text-align: right;\n",
       "    }\n",
       "</style>\n",
       "<table border=\"1\" class=\"dataframe\">\n",
       "  <thead>\n",
       "    <tr style=\"text-align: right;\">\n",
       "      <th></th>\n",
       "      <th>990001</th>\n",
       "      <th>addx</th>\n",
       "      <th>17</th>\n",
       "      <th>29</th>\n",
       "      <th>16</th>\n",
       "      <th>49</th>\n",
       "      <th>43</th>\n",
       "      <th>154</th>\n",
       "      <th>C</th>\n",
       "      <th>A</th>\n",
       "      <th>C.1</th>\n",
       "    </tr>\n",
       "  </thead>\n",
       "  <tbody>\n",
       "    <tr>\n",
       "      <th>0</th>\n",
       "      <td>990002</td>\n",
       "      <td>stch</td>\n",
       "      <td>30</td>\n",
       "      <td>9</td>\n",
       "      <td>48</td>\n",
       "      <td>25</td>\n",
       "      <td>81</td>\n",
       "      <td>193</td>\n",
       "      <td>C</td>\n",
       "      <td>A</td>\n",
       "      <td>A</td>\n",
       "    </tr>\n",
       "    <tr>\n",
       "      <th>1</th>\n",
       "      <td>990003</td>\n",
       "      <td>gali</td>\n",
       "      <td>93</td>\n",
       "      <td>60</td>\n",
       "      <td>6</td>\n",
       "      <td>84</td>\n",
       "      <td>36</td>\n",
       "      <td>279</td>\n",
       "      <td>A</td>\n",
       "      <td>C</td>\n",
       "      <td>A</td>\n",
       "    </tr>\n",
       "    <tr>\n",
       "      <th>2</th>\n",
       "      <td>990004</td>\n",
       "      <td>miat</td>\n",
       "      <td>73</td>\n",
       "      <td>22</td>\n",
       "      <td>48</td>\n",
       "      <td>24</td>\n",
       "      <td>72</td>\n",
       "      <td>239</td>\n",
       "      <td>B</td>\n",
       "      <td>C</td>\n",
       "      <td>C</td>\n",
       "    </tr>\n",
       "    <tr>\n",
       "      <th>3</th>\n",
       "      <td>990005</td>\n",
       "      <td>oran</td>\n",
       "      <td>33</td>\n",
       "      <td>38</td>\n",
       "      <td>59</td>\n",
       "      <td>58</td>\n",
       "      <td>28</td>\n",
       "      <td>216</td>\n",
       "      <td>C</td>\n",
       "      <td>B</td>\n",
       "      <td>A</td>\n",
       "    </tr>\n",
       "    <tr>\n",
       "      <th>4</th>\n",
       "      <td>990006</td>\n",
       "      <td>sj24</td>\n",
       "      <td>27</td>\n",
       "      <td>65</td>\n",
       "      <td>54</td>\n",
       "      <td>77</td>\n",
       "      <td>33</td>\n",
       "      <td>256</td>\n",
       "      <td>B</td>\n",
       "      <td>A</td>\n",
       "      <td>A</td>\n",
       "    </tr>\n",
       "    <tr>\n",
       "      <th>5</th>\n",
       "      <td>990007</td>\n",
       "      <td>kor2</td>\n",
       "      <td>33</td>\n",
       "      <td>85</td>\n",
       "      <td>98</td>\n",
       "      <td>60</td>\n",
       "      <td>66</td>\n",
       "      <td>342</td>\n",
       "      <td>A</td>\n",
       "      <td>B</td>\n",
       "      <td>A</td>\n",
       "    </tr>\n",
       "    <tr>\n",
       "      <th>6</th>\n",
       "      <td>990008</td>\n",
       "      <td>vsky</td>\n",
       "      <td>41</td>\n",
       "      <td>5</td>\n",
       "      <td>99</td>\n",
       "      <td>14</td>\n",
       "      <td>67</td>\n",
       "      <td>226</td>\n",
       "      <td>C</td>\n",
       "      <td>A</td>\n",
       "      <td>C</td>\n",
       "    </tr>\n",
       "    <tr>\n",
       "      <th>7</th>\n",
       "      <td>990009</td>\n",
       "      <td>kimd</td>\n",
       "      <td>74</td>\n",
       "      <td>4</td>\n",
       "      <td>1</td>\n",
       "      <td>33</td>\n",
       "      <td>53</td>\n",
       "      <td>165</td>\n",
       "      <td>B</td>\n",
       "      <td>C</td>\n",
       "      <td>A</td>\n",
       "    </tr>\n",
       "    <tr>\n",
       "      <th>8</th>\n",
       "      <td>990010</td>\n",
       "      <td>blue</td>\n",
       "      <td>55</td>\n",
       "      <td>84</td>\n",
       "      <td>50</td>\n",
       "      <td>89</td>\n",
       "      <td>37</td>\n",
       "      <td>315</td>\n",
       "      <td>A</td>\n",
       "      <td>B</td>\n",
       "      <td>A</td>\n",
       "    </tr>\n",
       "    <tr>\n",
       "      <th>9</th>\n",
       "      <td>990011</td>\n",
       "      <td>moja</td>\n",
       "      <td>43</td>\n",
       "      <td>69</td>\n",
       "      <td>68</td>\n",
       "      <td>23</td>\n",
       "      <td>92</td>\n",
       "      <td>295</td>\n",
       "      <td>B</td>\n",
       "      <td>A</td>\n",
       "      <td>C</td>\n",
       "    </tr>\n",
       "  </tbody>\n",
       "</table>\n",
       "</div>"
      ],
      "text/plain": [
       "   990001  addx   17   29   16   49   43  154  C  A C.1\n",
       "0  990002  stch   30    9   48   25   81  193  C  A   A\n",
       "1  990003  gali   93   60    6   84   36  279  A  C   A\n",
       "2  990004  miat   73   22   48   24   72  239  B  C   C\n",
       "3  990005  oran   33   38   59   58   28  216  C  B   A\n",
       "4  990006  sj24   27   65   54   77   33  256  B  A   A\n",
       "5  990007  kor2   33   85   98   60   66  342  A  B   A\n",
       "6  990008  vsky   41    5   99   14   67  226  C  A   C\n",
       "7  990009  kimd   74    4    1   33   53  165  B  C   A\n",
       "8  990010  blue   55   84   50   89   37  315  A  B   A\n",
       "9  990011  moja   43   69   68   23   92  295  B  A   C"
      ]
     },
     "execution_count": 32,
     "metadata": {},
     "output_type": "execute_result"
    }
   ],
   "source": [
    "gisa.head(10)"
   ]
  },
  {
   "cell_type": "code",
   "execution_count": 34,
   "id": "570cfb80-b19e-4404-9504-987d8e980240",
   "metadata": {},
   "outputs": [],
   "source": [
    "gisa.columns = ['stdNo','email','kor','eng','math','sci','hist','total','mgrCode','accCode','locCode']"
   ]
  },
  {
   "cell_type": "code",
   "execution_count": 35,
   "id": "ddd5a1ea-3d9d-4911-931f-aaed2c9ce661",
   "metadata": {},
   "outputs": [
    {
     "data": {
      "text/html": [
       "<div>\n",
       "<style scoped>\n",
       "    .dataframe tbody tr th:only-of-type {\n",
       "        vertical-align: middle;\n",
       "    }\n",
       "\n",
       "    .dataframe tbody tr th {\n",
       "        vertical-align: top;\n",
       "    }\n",
       "\n",
       "    .dataframe thead th {\n",
       "        text-align: right;\n",
       "    }\n",
       "</style>\n",
       "<table border=\"1\" class=\"dataframe\">\n",
       "  <thead>\n",
       "    <tr style=\"text-align: right;\">\n",
       "      <th></th>\n",
       "      <th>stdNo</th>\n",
       "      <th>email</th>\n",
       "      <th>kor</th>\n",
       "      <th>eng</th>\n",
       "      <th>math</th>\n",
       "      <th>sci</th>\n",
       "      <th>hist</th>\n",
       "      <th>total</th>\n",
       "      <th>mgrCode</th>\n",
       "      <th>accCode</th>\n",
       "      <th>locCode</th>\n",
       "    </tr>\n",
       "  </thead>\n",
       "  <tbody>\n",
       "    <tr>\n",
       "      <th>0</th>\n",
       "      <td>990002</td>\n",
       "      <td>stch</td>\n",
       "      <td>30</td>\n",
       "      <td>9</td>\n",
       "      <td>48</td>\n",
       "      <td>25</td>\n",
       "      <td>81</td>\n",
       "      <td>193</td>\n",
       "      <td>C</td>\n",
       "      <td>A</td>\n",
       "      <td>A</td>\n",
       "    </tr>\n",
       "    <tr>\n",
       "      <th>1</th>\n",
       "      <td>990003</td>\n",
       "      <td>gali</td>\n",
       "      <td>93</td>\n",
       "      <td>60</td>\n",
       "      <td>6</td>\n",
       "      <td>84</td>\n",
       "      <td>36</td>\n",
       "      <td>279</td>\n",
       "      <td>A</td>\n",
       "      <td>C</td>\n",
       "      <td>A</td>\n",
       "    </tr>\n",
       "    <tr>\n",
       "      <th>2</th>\n",
       "      <td>990004</td>\n",
       "      <td>miat</td>\n",
       "      <td>73</td>\n",
       "      <td>22</td>\n",
       "      <td>48</td>\n",
       "      <td>24</td>\n",
       "      <td>72</td>\n",
       "      <td>239</td>\n",
       "      <td>B</td>\n",
       "      <td>C</td>\n",
       "      <td>C</td>\n",
       "    </tr>\n",
       "    <tr>\n",
       "      <th>3</th>\n",
       "      <td>990005</td>\n",
       "      <td>oran</td>\n",
       "      <td>33</td>\n",
       "      <td>38</td>\n",
       "      <td>59</td>\n",
       "      <td>58</td>\n",
       "      <td>28</td>\n",
       "      <td>216</td>\n",
       "      <td>C</td>\n",
       "      <td>B</td>\n",
       "      <td>A</td>\n",
       "    </tr>\n",
       "    <tr>\n",
       "      <th>4</th>\n",
       "      <td>990006</td>\n",
       "      <td>sj24</td>\n",
       "      <td>27</td>\n",
       "      <td>65</td>\n",
       "      <td>54</td>\n",
       "      <td>77</td>\n",
       "      <td>33</td>\n",
       "      <td>256</td>\n",
       "      <td>B</td>\n",
       "      <td>A</td>\n",
       "      <td>A</td>\n",
       "    </tr>\n",
       "    <tr>\n",
       "      <th>5</th>\n",
       "      <td>990007</td>\n",
       "      <td>kor2</td>\n",
       "      <td>33</td>\n",
       "      <td>85</td>\n",
       "      <td>98</td>\n",
       "      <td>60</td>\n",
       "      <td>66</td>\n",
       "      <td>342</td>\n",
       "      <td>A</td>\n",
       "      <td>B</td>\n",
       "      <td>A</td>\n",
       "    </tr>\n",
       "    <tr>\n",
       "      <th>6</th>\n",
       "      <td>990008</td>\n",
       "      <td>vsky</td>\n",
       "      <td>41</td>\n",
       "      <td>5</td>\n",
       "      <td>99</td>\n",
       "      <td>14</td>\n",
       "      <td>67</td>\n",
       "      <td>226</td>\n",
       "      <td>C</td>\n",
       "      <td>A</td>\n",
       "      <td>C</td>\n",
       "    </tr>\n",
       "    <tr>\n",
       "      <th>7</th>\n",
       "      <td>990009</td>\n",
       "      <td>kimd</td>\n",
       "      <td>74</td>\n",
       "      <td>4</td>\n",
       "      <td>1</td>\n",
       "      <td>33</td>\n",
       "      <td>53</td>\n",
       "      <td>165</td>\n",
       "      <td>B</td>\n",
       "      <td>C</td>\n",
       "      <td>A</td>\n",
       "    </tr>\n",
       "    <tr>\n",
       "      <th>8</th>\n",
       "      <td>990010</td>\n",
       "      <td>blue</td>\n",
       "      <td>55</td>\n",
       "      <td>84</td>\n",
       "      <td>50</td>\n",
       "      <td>89</td>\n",
       "      <td>37</td>\n",
       "      <td>315</td>\n",
       "      <td>A</td>\n",
       "      <td>B</td>\n",
       "      <td>A</td>\n",
       "    </tr>\n",
       "    <tr>\n",
       "      <th>9</th>\n",
       "      <td>990011</td>\n",
       "      <td>moja</td>\n",
       "      <td>43</td>\n",
       "      <td>69</td>\n",
       "      <td>68</td>\n",
       "      <td>23</td>\n",
       "      <td>92</td>\n",
       "      <td>295</td>\n",
       "      <td>B</td>\n",
       "      <td>A</td>\n",
       "      <td>C</td>\n",
       "    </tr>\n",
       "  </tbody>\n",
       "</table>\n",
       "</div>"
      ],
      "text/plain": [
       "    stdNo email  kor  eng  math  sci  hist  total mgrCode accCode locCode\n",
       "0  990002  stch   30    9    48   25    81    193       C       A       A\n",
       "1  990003  gali   93   60     6   84    36    279       A       C       A\n",
       "2  990004  miat   73   22    48   24    72    239       B       C       C\n",
       "3  990005  oran   33   38    59   58    28    216       C       B       A\n",
       "4  990006  sj24   27   65    54   77    33    256       B       A       A\n",
       "5  990007  kor2   33   85    98   60    66    342       A       B       A\n",
       "6  990008  vsky   41    5    99   14    67    226       C       A       C\n",
       "7  990009  kimd   74    4     1   33    53    165       B       C       A\n",
       "8  990010  blue   55   84    50   89    37    315       A       B       A\n",
       "9  990011  moja   43   69    68   23    92    295       B       A       C"
      ]
     },
     "execution_count": 35,
     "metadata": {},
     "output_type": "execute_result"
    }
   ],
   "source": [
    "gisa.head(10)"
   ]
  },
  {
   "cell_type": "code",
   "execution_count": 37,
   "id": "163684e4-f515-4de9-9c88-c0102a394d8d",
   "metadata": {},
   "outputs": [
    {
     "data": {
      "text/html": [
       "<div>\n",
       "<style scoped>\n",
       "    .dataframe tbody tr th:only-of-type {\n",
       "        vertical-align: middle;\n",
       "    }\n",
       "\n",
       "    .dataframe tbody tr th {\n",
       "        vertical-align: top;\n",
       "    }\n",
       "\n",
       "    .dataframe thead th {\n",
       "        text-align: right;\n",
       "    }\n",
       "</style>\n",
       "<table border=\"1\" class=\"dataframe\">\n",
       "  <thead>\n",
       "    <tr style=\"text-align: right;\">\n",
       "      <th></th>\n",
       "      <th>kor</th>\n",
       "      <th>eng</th>\n",
       "      <th>math</th>\n",
       "    </tr>\n",
       "  </thead>\n",
       "  <tbody>\n",
       "    <tr>\n",
       "      <th>0</th>\n",
       "      <td>30</td>\n",
       "      <td>9</td>\n",
       "      <td>48</td>\n",
       "    </tr>\n",
       "    <tr>\n",
       "      <th>1</th>\n",
       "      <td>93</td>\n",
       "      <td>60</td>\n",
       "      <td>6</td>\n",
       "    </tr>\n",
       "    <tr>\n",
       "      <th>2</th>\n",
       "      <td>73</td>\n",
       "      <td>22</td>\n",
       "      <td>48</td>\n",
       "    </tr>\n",
       "    <tr>\n",
       "      <th>3</th>\n",
       "      <td>33</td>\n",
       "      <td>38</td>\n",
       "      <td>59</td>\n",
       "    </tr>\n",
       "    <tr>\n",
       "      <th>4</th>\n",
       "      <td>27</td>\n",
       "      <td>65</td>\n",
       "      <td>54</td>\n",
       "    </tr>\n",
       "  </tbody>\n",
       "</table>\n",
       "</div>"
      ],
      "text/plain": [
       "   kor  eng  math\n",
       "0   30    9    48\n",
       "1   93   60     6\n",
       "2   73   22    48\n",
       "3   33   38    59\n",
       "4   27   65    54"
      ]
     },
     "execution_count": 37,
     "metadata": {},
     "output_type": "execute_result"
    }
   ],
   "source": [
    "gisa[['kor','eng','math']].head()"
   ]
  },
  {
   "cell_type": "code",
   "execution_count": 38,
   "id": "671eaa85-ee98-4d09-89a9-d2e65c89e28f",
   "metadata": {},
   "outputs": [
    {
     "data": {
      "text/html": [
       "<div>\n",
       "<style scoped>\n",
       "    .dataframe tbody tr th:only-of-type {\n",
       "        vertical-align: middle;\n",
       "    }\n",
       "\n",
       "    .dataframe tbody tr th {\n",
       "        vertical-align: top;\n",
       "    }\n",
       "\n",
       "    .dataframe thead th {\n",
       "        text-align: right;\n",
       "    }\n",
       "</style>\n",
       "<table border=\"1\" class=\"dataframe\">\n",
       "  <thead>\n",
       "    <tr style=\"text-align: right;\">\n",
       "      <th></th>\n",
       "      <th>stdNo</th>\n",
       "      <th>email</th>\n",
       "      <th>kor</th>\n",
       "      <th>eng</th>\n",
       "      <th>math</th>\n",
       "      <th>sci</th>\n",
       "      <th>hist</th>\n",
       "      <th>total</th>\n",
       "      <th>mgrCode</th>\n",
       "      <th>accCode</th>\n",
       "      <th>locCode</th>\n",
       "    </tr>\n",
       "  </thead>\n",
       "  <tbody>\n",
       "    <tr>\n",
       "      <th>994</th>\n",
       "      <td>990996</td>\n",
       "      <td>seok</td>\n",
       "      <td>43</td>\n",
       "      <td>35</td>\n",
       "      <td>77</td>\n",
       "      <td>34</td>\n",
       "      <td>39</td>\n",
       "      <td>228</td>\n",
       "      <td>A</td>\n",
       "      <td>B</td>\n",
       "      <td>B</td>\n",
       "    </tr>\n",
       "    <tr>\n",
       "      <th>995</th>\n",
       "      <td>990997</td>\n",
       "      <td>smj2</td>\n",
       "      <td>3</td>\n",
       "      <td>59</td>\n",
       "      <td>28</td>\n",
       "      <td>53</td>\n",
       "      <td>23</td>\n",
       "      <td>166</td>\n",
       "      <td>A</td>\n",
       "      <td>C</td>\n",
       "      <td>B</td>\n",
       "    </tr>\n",
       "    <tr>\n",
       "      <th>996</th>\n",
       "      <td>990998</td>\n",
       "      <td>kcdp</td>\n",
       "      <td>34</td>\n",
       "      <td>46</td>\n",
       "      <td>95</td>\n",
       "      <td>37</td>\n",
       "      <td>11</td>\n",
       "      <td>223</td>\n",
       "      <td>B</td>\n",
       "      <td>A</td>\n",
       "      <td>A</td>\n",
       "    </tr>\n",
       "    <tr>\n",
       "      <th>997</th>\n",
       "      <td>990999</td>\n",
       "      <td>banj</td>\n",
       "      <td>12</td>\n",
       "      <td>36</td>\n",
       "      <td>10</td>\n",
       "      <td>62</td>\n",
       "      <td>28</td>\n",
       "      <td>148</td>\n",
       "      <td>C</td>\n",
       "      <td>A</td>\n",
       "      <td>C</td>\n",
       "    </tr>\n",
       "    <tr>\n",
       "      <th>998</th>\n",
       "      <td>991000</td>\n",
       "      <td>ccor</td>\n",
       "      <td>64</td>\n",
       "      <td>53</td>\n",
       "      <td>22</td>\n",
       "      <td>36</td>\n",
       "      <td>54</td>\n",
       "      <td>229</td>\n",
       "      <td>B</td>\n",
       "      <td>C</td>\n",
       "      <td>C</td>\n",
       "    </tr>\n",
       "  </tbody>\n",
       "</table>\n",
       "</div>"
      ],
      "text/plain": [
       "      stdNo email  kor  eng  math  sci  hist  total mgrCode accCode locCode\n",
       "994  990996  seok   43   35    77   34    39    228       A       B       B\n",
       "995  990997  smj2    3   59    28   53    23    166       A       C       B\n",
       "996  990998  kcdp   34   46    95   37    11    223       B       A       A\n",
       "997  990999  banj   12   36    10   62    28    148       C       A       C\n",
       "998  991000  ccor   64   53    22   36    54    229       B       C       C"
      ]
     },
     "execution_count": 38,
     "metadata": {},
     "output_type": "execute_result"
    }
   ],
   "source": [
    "gisa.tail()"
   ]
  },
  {
   "cell_type": "code",
   "execution_count": 39,
   "id": "2cf59318-53b0-4baf-92f1-26bd6ac883f4",
   "metadata": {},
   "outputs": [
    {
     "data": {
      "text/html": [
       "<div>\n",
       "<style scoped>\n",
       "    .dataframe tbody tr th:only-of-type {\n",
       "        vertical-align: middle;\n",
       "    }\n",
       "\n",
       "    .dataframe tbody tr th {\n",
       "        vertical-align: top;\n",
       "    }\n",
       "\n",
       "    .dataframe thead th {\n",
       "        text-align: right;\n",
       "    }\n",
       "</style>\n",
       "<table border=\"1\" class=\"dataframe\">\n",
       "  <thead>\n",
       "    <tr style=\"text-align: right;\">\n",
       "      <th></th>\n",
       "      <th>stdNo</th>\n",
       "      <th>email</th>\n",
       "      <th>kor</th>\n",
       "      <th>eng</th>\n",
       "      <th>math</th>\n",
       "      <th>sci</th>\n",
       "      <th>hist</th>\n",
       "      <th>total</th>\n",
       "      <th>mgrCode</th>\n",
       "      <th>accCode</th>\n",
       "      <th>locCode</th>\n",
       "    </tr>\n",
       "  </thead>\n",
       "  <tbody>\n",
       "    <tr>\n",
       "      <th>37</th>\n",
       "      <td>990039</td>\n",
       "      <td>huff</td>\n",
       "      <td>52</td>\n",
       "      <td>99</td>\n",
       "      <td>97</td>\n",
       "      <td>87</td>\n",
       "      <td>72</td>\n",
       "      <td>407</td>\n",
       "      <td>A</td>\n",
       "      <td>C</td>\n",
       "      <td>A</td>\n",
       "    </tr>\n",
       "    <tr>\n",
       "      <th>49</th>\n",
       "      <td>990051</td>\n",
       "      <td>soor</td>\n",
       "      <td>94</td>\n",
       "      <td>98</td>\n",
       "      <td>85</td>\n",
       "      <td>64</td>\n",
       "      <td>75</td>\n",
       "      <td>416</td>\n",
       "      <td>A</td>\n",
       "      <td>B</td>\n",
       "      <td>A</td>\n",
       "    </tr>\n",
       "    <tr>\n",
       "      <th>362</th>\n",
       "      <td>990364</td>\n",
       "      <td>ywjs</td>\n",
       "      <td>88</td>\n",
       "      <td>81</td>\n",
       "      <td>100</td>\n",
       "      <td>84</td>\n",
       "      <td>81</td>\n",
       "      <td>434</td>\n",
       "      <td>B</td>\n",
       "      <td>C</td>\n",
       "      <td>A</td>\n",
       "    </tr>\n",
       "    <tr>\n",
       "      <th>420</th>\n",
       "      <td>990422</td>\n",
       "      <td>itkz</td>\n",
       "      <td>93</td>\n",
       "      <td>97</td>\n",
       "      <td>74</td>\n",
       "      <td>69</td>\n",
       "      <td>80</td>\n",
       "      <td>413</td>\n",
       "      <td>C</td>\n",
       "      <td>B</td>\n",
       "      <td>B</td>\n",
       "    </tr>\n",
       "    <tr>\n",
       "      <th>657</th>\n",
       "      <td>990659</td>\n",
       "      <td>pete</td>\n",
       "      <td>100</td>\n",
       "      <td>98</td>\n",
       "      <td>77</td>\n",
       "      <td>44</td>\n",
       "      <td>85</td>\n",
       "      <td>404</td>\n",
       "      <td>B</td>\n",
       "      <td>C</td>\n",
       "      <td>C</td>\n",
       "    </tr>\n",
       "    <tr>\n",
       "      <th>751</th>\n",
       "      <td>990753</td>\n",
       "      <td>firs</td>\n",
       "      <td>82</td>\n",
       "      <td>58</td>\n",
       "      <td>93</td>\n",
       "      <td>86</td>\n",
       "      <td>83</td>\n",
       "      <td>402</td>\n",
       "      <td>A</td>\n",
       "      <td>C</td>\n",
       "      <td>B</td>\n",
       "    </tr>\n",
       "  </tbody>\n",
       "</table>\n",
       "</div>"
      ],
      "text/plain": [
       "      stdNo email  kor  eng  math  sci  hist  total mgrCode accCode locCode\n",
       "37   990039  huff   52   99    97   87    72    407       A       C       A\n",
       "49   990051  soor   94   98    85   64    75    416       A       B       A\n",
       "362  990364  ywjs   88   81   100   84    81    434       B       C       A\n",
       "420  990422  itkz   93   97    74   69    80    413       C       B       B\n",
       "657  990659  pete  100   98    77   44    85    404       B       C       C\n",
       "751  990753  firs   82   58    93   86    83    402       A       C       B"
      ]
     },
     "execution_count": 39,
     "metadata": {},
     "output_type": "execute_result"
    }
   ],
   "source": [
    "gisa[gisa['total']>=400]"
   ]
  },
  {
   "cell_type": "code",
   "execution_count": 40,
   "id": "ba4d94aa-e1cb-4e48-9875-1b9dec9bd9c2",
   "metadata": {},
   "outputs": [
    {
     "data": {
      "text/plain": [
       "mgrCode\n",
       "A    66.683729\n",
       "B    66.060773\n",
       "C    62.800499\n",
       "Name: total, dtype: float64"
      ]
     },
     "execution_count": 40,
     "metadata": {},
     "output_type": "execute_result"
    }
   ],
   "source": [
    "gisa.groupby('mgrCode').total.std()"
   ]
  },
  {
   "cell_type": "code",
   "execution_count": null,
   "id": "715fbf19-aefa-4226-a110-55d897ff1702",
   "metadata": {},
   "outputs": [],
   "source": []
  }
 ],
 "metadata": {
  "kernelspec": {
   "display_name": "Python 3 (ipykernel)",
   "language": "python",
   "name": "python3"
  },
  "language_info": {
   "codemirror_mode": {
    "name": "ipython",
    "version": 3
   },
   "file_extension": ".py",
   "mimetype": "text/x-python",
   "name": "python",
   "nbconvert_exporter": "python",
   "pygments_lexer": "ipython3",
   "version": "3.11.7"
  }
 },
 "nbformat": 4,
 "nbformat_minor": 5
}
